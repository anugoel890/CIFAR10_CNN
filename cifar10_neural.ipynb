{
 "cells": [
  {
   "cell_type": "markdown",
   "metadata": {},
   "source": [
    "# Downloading data"
   ]
  },
  {
   "cell_type": "code",
   "execution_count": 609,
   "metadata": {},
   "outputs": [],
   "source": [
    "import torch\n",
    "import numpy as np\n",
    "import torch.nn as nn\n",
    "import torch.nn.functional as F\n",
    "import matplotlib.pyplot as plt\n",
    "from torchvision.datasets import CIFAR10\n",
    "from torchvision.transforms import ToTensor\n",
    "from sklearn.model_selection import train_test_split\n",
    "import ssl\n",
    "ssl._create_default_https_context = ssl._create_unverified_context"
   ]
  },
  {
   "cell_type": "code",
   "execution_count": 610,
   "metadata": {},
   "outputs": [
    {
     "name": "stdout",
     "output_type": "stream",
     "text": [
      "Files already downloaded and verified\n"
     ]
    }
   ],
   "source": [
    "# Download CIFAR10 train dataset \n",
    "train_dataset = CIFAR10(root='data/', download=True, transform=ToTensor())\n",
    "\n",
    "# Download CIFAR10 test dataset\n",
    "dataset = CIFAR10(root='data/', train=False, transform=ToTensor())"
   ]
  },
  {
   "cell_type": "markdown",
   "metadata": {},
   "source": [
    "# Analysing the data"
   ]
  },
  {
   "cell_type": "markdown",
   "metadata": {},
   "source": [
    "Below code gives the classes represented in the images."
   ]
  },
  {
   "cell_type": "code",
   "execution_count": 611,
   "metadata": {},
   "outputs": [
    {
     "name": "stdout",
     "output_type": "stream",
     "text": [
      "['airplane', 'automobile', 'bird', 'cat', 'deer', 'dog', 'frog', 'horse', 'ship', 'truck']\n"
     ]
    }
   ],
   "source": [
    "classes = train_dataset.classes\n",
    "print(classes)\n"
   ]
  },
  {
   "cell_type": "markdown",
   "metadata": {},
   "source": [
    "We use train_test_split from sklearn that splits the dataset into test and validation datasets.\n",
    " \n",
    "The train dataset contains 50000 data points. Similarly validation and test datasets contain 4500 and 5500 data points."
   ]
  },
  {
   "cell_type": "code",
   "execution_count": 612,
   "metadata": {},
   "outputs": [
    {
     "name": "stdout",
     "output_type": "stream",
     "text": [
      "length of train, validation and test datasets: 50000 4500 5500\n"
     ]
    }
   ],
   "source": [
    "# Split the dataset into validation and test sets\n",
    "val_dataset, test_dataset = train_test_split(dataset, train_size = .45, shuffle=True)\n",
    "print(\"length of train, validation and test datasets:\", len(train_dataset), len(val_dataset),len(test_dataset))"
   ]
  },
  {
   "cell_type": "markdown",
   "metadata": {},
   "source": [
    "CIFAR10 train dataset has 50000 samples where each sample is a tuple with two elements. First element represents the image of size [3,32,32] and second element gives the actual label(number between 0 to 9) representing the class given in the image. For example, label 5 represents dog."
   ]
  },
  {
   "cell_type": "code",
   "execution_count": 613,
   "metadata": {},
   "outputs": [
    {
     "name": "stdout",
     "output_type": "stream",
     "text": [
      "Value of first element of train dataset: <class 'tuple'> 2\n",
      "Value of second element of train dataset: <class 'tuple'> 2\n"
     ]
    }
   ],
   "source": [
    "# Evaluating the train data\n",
    "print(\"Value of first element of train dataset:\", type(train_dataset[0]),len(train_dataset[0]))\n",
    "print(\"Value of second element of train dataset:\",type(train_dataset[1]),len(train_dataset[1]))"
   ]
  },
  {
   "cell_type": "code",
   "execution_count": 614,
   "metadata": {},
   "outputs": [
    {
     "name": "stdout",
     "output_type": "stream",
     "text": [
      "First element: (tensor([[[0.2314, 0.1686, 0.1961,  ..., 0.6196, 0.5961, 0.5804],\n",
      "         [0.0627, 0.0000, 0.0706,  ..., 0.4824, 0.4667, 0.4784],\n",
      "         [0.0980, 0.0627, 0.1922,  ..., 0.4627, 0.4706, 0.4275],\n",
      "         ...,\n",
      "         [0.8157, 0.7882, 0.7765,  ..., 0.6275, 0.2196, 0.2078],\n",
      "         [0.7059, 0.6784, 0.7294,  ..., 0.7216, 0.3804, 0.3255],\n",
      "         [0.6941, 0.6588, 0.7020,  ..., 0.8471, 0.5922, 0.4824]],\n",
      "\n",
      "        [[0.2431, 0.1804, 0.1882,  ..., 0.5176, 0.4902, 0.4863],\n",
      "         [0.0784, 0.0000, 0.0314,  ..., 0.3451, 0.3255, 0.3412],\n",
      "         [0.0941, 0.0275, 0.1059,  ..., 0.3294, 0.3294, 0.2863],\n",
      "         ...,\n",
      "         [0.6667, 0.6000, 0.6314,  ..., 0.5216, 0.1216, 0.1333],\n",
      "         [0.5451, 0.4824, 0.5647,  ..., 0.5804, 0.2431, 0.2078],\n",
      "         [0.5647, 0.5059, 0.5569,  ..., 0.7216, 0.4627, 0.3608]],\n",
      "\n",
      "        [[0.2471, 0.1765, 0.1686,  ..., 0.4235, 0.4000, 0.4039],\n",
      "         [0.0784, 0.0000, 0.0000,  ..., 0.2157, 0.1961, 0.2235],\n",
      "         [0.0824, 0.0000, 0.0314,  ..., 0.1961, 0.1961, 0.1647],\n",
      "         ...,\n",
      "         [0.3765, 0.1333, 0.1020,  ..., 0.2745, 0.0275, 0.0784],\n",
      "         [0.3765, 0.1647, 0.1176,  ..., 0.3686, 0.1333, 0.1333],\n",
      "         [0.4549, 0.3686, 0.3412,  ..., 0.5490, 0.3294, 0.2824]]]), 6)\n"
     ]
    }
   ],
   "source": [
    "print(\"First element:\", train_dataset[0])"
   ]
  },
  {
   "cell_type": "code",
   "execution_count": 615,
   "metadata": {},
   "outputs": [
    {
     "name": "stdout",
     "output_type": "stream",
     "text": [
      "Image representation of the first element of train dataset: <class 'torch.Tensor'> torch.Size([3, 32, 32])\n",
      "Label of the first element of train dataset: <class 'int'> 6\n"
     ]
    }
   ],
   "source": [
    "print(\"Image representation of the first element of train dataset:\", type(train_dataset[0][0]),train_dataset[0][0].size())\n",
    "print(\"Label of the first element of train dataset:\", type(train_dataset[0][1]), train_dataset[0][1])"
   ]
  },
  {
   "cell_type": "code",
   "execution_count": 616,
   "metadata": {},
   "outputs": [
    {
     "name": "stdout",
     "output_type": "stream",
     "text": [
      "Label (numeric): 6\n",
      "Label (textual): frog\n"
     ]
    },
    {
     "data": {
      "image/png": "[encoded data removed]",
      "text/plain": [
       "<Figure size 640x480 with 1 Axes>"
      ]
     },
     "metadata": {},
     "output_type": "display_data"
    }
   ],
   "source": [
    "img, label = train_dataset[0]\n",
    "plt.imshow(img.permute((1, 2, 0)))\n",
    "print('Label (numeric):', label)\n",
    "print('Label (textual):', classes[label])"
   ]
  },
  {
   "cell_type": "code",
   "execution_count": 617,
   "metadata": {},
   "outputs": [
    {
     "name": "stdout",
     "output_type": "stream",
     "text": [
      "Image representation of the first test element: <class 'torch.Tensor'> torch.Size([3, 32, 32])\n",
      "Label of the first test element: <class 'int'> 7\n"
     ]
    }
   ],
   "source": [
    "# Evaluating the test data\n",
    "print(\"Image representation of the first test element:\", type(test_dataset[0][0]),test_dataset[0][0].size())\n",
    "print(\"Label of the first test element:\", type(test_dataset[0][1]), test_dataset[0][1])"
   ]
  },
  {
   "cell_type": "code",
   "execution_count": 618,
   "metadata": {},
   "outputs": [
    {
     "name": "stdout",
     "output_type": "stream",
     "text": [
      "Label (numeric): 7\n",
      "Label (textual): horse\n"
     ]
    },
    {
     "data": {
      "image/png": "[encoded data removed]",
      "text/plain": [
       "<Figure size 640x480 with 1 Axes>"
      ]
     },
     "metadata": {},
     "output_type": "display_data"
    }
   ],
   "source": [
    "img, label = test_dataset[0]\n",
    "plt.imshow(img.permute((1, 2, 0)))\n",
    "print('Label (numeric):', label)\n",
    "print('Label (textual):', classes[label])"
   ]
  },
  {
   "cell_type": "markdown",
   "metadata": {},
   "source": [
    "# Initializations"
   ]
  },
  {
   "cell_type": "markdown",
   "metadata": {},
   "source": [
    "CIFAR10 datasets are added to dataloaders to create batches of 100 samples to be used at a time. As train dataset is of 50000 samples, dataloader creates batches of 100 samples. In each iteration/epoch that runs over the whole dataset of 50000 samples once, this means that after every 100 samples batch, model's weight is updated. This is carried out 500 times. So in each epoch model's weight is updated 500 times (50000/100). \n",
    "\n",
    "If you consider the batch size of 50000 samples, then the model's weight is updated only once in each epoch, which is not a good practice as model is getting less trained."
   ]
  },
  {
   "cell_type": "code",
   "execution_count": 619,
   "metadata": {},
   "outputs": [
    {
     "name": "stdout",
     "output_type": "stream",
     "text": [
      "Elements in train, validation and test loaders at a time: 50 45 55\n"
     ]
    }
   ],
   "source": [
    "# Adding dataset to dataloader\n",
    "train_loader = torch.utils.data.DataLoader(dataset=train_dataset, batch_size=1000)\n",
    "test_loader = torch.utils.data.DataLoader(dataset=test_dataset, batch_size=100)\n",
    "val_loader = torch.utils.data.DataLoader(dataset=val_dataset, batch_size=100)\n",
    "print(\"Elements in train, validation and test loaders at a time:\",len(train_loader),len(val_loader),len(test_loader))"
   ]
  },
  {
   "cell_type": "markdown",
   "metadata": {},
   "source": [
    "Since an image is of the size 3X32X32, hence we consider input dimension of each image to be 3X32X32.\n",
    "\n",
    "The output of each image is a vector with the predicted probability of each number from 0 to 9. The predicted label would be the number with the highest probability. Hence the output dimension is considered as 10. "
   ]
  },
  {
   "cell_type": "code",
   "execution_count": 620,
   "metadata": {},
   "outputs": [],
   "source": [
    "# Initializations\n",
    "epochs = 10\n",
    "input_dim = 3*32*32\n",
    "output_dim = 10\n",
    "learning_rate = 0.001\n",
    "hidden_dim = 256"
   ]
  },
  {
   "cell_type": "markdown",
   "metadata": {},
   "source": [
    "# Training and validating the model"
   ]
  },
  {
   "cell_type": "markdown",
   "metadata": {},
   "source": [
    "For image classification here, we use Neural Network model. Conv2d implements convolutional neural network (CNN). It takes as argument 3 as it represents that we use a colored image and in RGB format. 32 is the output value. Rest takes care of the extra conditions. \n",
    "\n",
    "The final output returned is of size 10 which means that it gives the probability for each of the 10 image classes. The class with highest probability represents that particular image."
   ]
  },
  {
   "cell_type": "code",
   "execution_count": 621,
   "metadata": {},
   "outputs": [],
   "source": [
    "class NeuralNetwork(nn.Module):\n",
    "    def __init__(self):\n",
    "        super().__init__()\n",
    "        self.network = nn.Sequential(\n",
    "            nn.Conv2d(3, 32, kernel_size=3, padding=1),\n",
    "            nn.ReLU(),\n",
    "            nn.Conv2d(32, 64, kernel_size=3, stride=1, padding=1),\n",
    "            nn.ReLU(),\n",
    "            nn.MaxPool2d(2, 2), # output: 64 x 16 x 16\n",
    "            nn.BatchNorm2d(64),\n",
    "\n",
    "            nn.Conv2d(64, 128, kernel_size=3, stride=1, padding=1),\n",
    "            nn.ReLU(),\n",
    "            nn.Conv2d(128, 128, kernel_size=3, stride=1, padding=1),\n",
    "            nn.ReLU(),\n",
    "            nn.MaxPool2d(2, 2), # output: 128 x 8 x 8\n",
    "            nn.BatchNorm2d(128),\n",
    "\n",
    "            nn.Conv2d(128, 256, kernel_size=3, stride=1, padding=1),\n",
    "            nn.ReLU(),\n",
    "            nn.Conv2d(256, 256, kernel_size=3, stride=1, padding=1),\n",
    "            nn.ReLU(),\n",
    "            nn.MaxPool2d(2, 2), # output: 256 x 4 x 4\n",
    "            nn.BatchNorm2d(256),\n",
    "\n",
    "            nn.Flatten(), \n",
    "            nn.Linear(256*4*4, 1024),\n",
    "            nn.ReLU(),\n",
    "            nn.Linear(1024, 512),\n",
    "            nn.ReLU(),\n",
    "            nn.Linear(512, 10))\n",
    "        \n",
    "    def forward(self, xb):\n",
    "        return self.network(xb)\n"
   ]
  },
  {
   "cell_type": "markdown",
   "metadata": {},
   "source": [
    "Mean squared error (MSE) loss used for linear regression is not useful in case of classification as it makes the whole function non-convex. It is difficult to find global minimum in case of non-convex functions. Here, we use cross entropy loss.\n",
    "\n",
    "In pytorch, in case of multi-class classification as required in this example, CrossEntropyLoss() is used. \n",
    "\n",
    "We use Adam which updates the model parameters after computing their gradients"
   ]
  },
  {
   "cell_type": "code",
   "execution_count": 622,
   "metadata": {},
   "outputs": [],
   "source": [
    "model = NeuralNetwork()\n",
    "criterion = torch.nn.CrossEntropyLoss()  \n",
    "optimizer = torch.optim.Adam(model.parameters(), lr=learning_rate)"
   ]
  },
  {
   "cell_type": "markdown",
   "metadata": {},
   "source": [
    "The image part of an element of the train loader is of size [100,3,32,32]. "
   ]
  },
  {
   "cell_type": "code",
   "execution_count": 623,
   "metadata": {},
   "outputs": [
    {
     "name": "stdout",
     "output_type": "stream",
     "text": [
      "[0,    50] Train -  Loss: 1.4326955151557923. Accuracy: 51.32\n",
      "\n",
      "[0,    45] Val -  Loss: 1.041382748550839. Accuracy: 62.24444444444445\n",
      "\n",
      "[1,    50] Train -  Loss: 0.8761882448196411. Accuracy: 72.26\n",
      "\n",
      "[1,    45] Val -  Loss: 0.783145542939504. Accuracy: 72.86666666666666\n",
      "\n",
      "[2,    50] Train -  Loss: 0.6013857477903366. Accuracy: 82.472\n",
      "\n",
      "[2,    45] Val -  Loss: 0.6865330908033583. Accuracy: 76.82222222222222\n",
      "\n",
      "[3,    50] Train -  Loss: 0.4429518288373947. Accuracy: 88.938\n",
      "\n",
      "[3,    45] Val -  Loss: 0.7351026905907525. Accuracy: 76.46666666666667\n",
      "\n",
      "[4,    50] Train -  Loss: 0.34095784306526183. Accuracy: 93.116\n",
      "\n",
      "[4,    45] Val -  Loss: 0.7640696843465169. Accuracy: 76.0\n",
      "\n",
      "[5,    50] Train -  Loss: 0.25106945604085923. Accuracy: 96.01\n",
      "\n",
      "[5,    45] Val -  Loss: 0.7867335120836894. Accuracy: 77.88888888888889\n",
      "\n",
      "[6,    50] Train -  Loss: 0.17758753761649132. Accuracy: 97.978\n",
      "\n",
      "[6,    45] Val -  Loss: 0.8097810016738044. Accuracy: 78.02222222222223\n",
      "\n",
      "[7,    50] Train -  Loss: 0.11476083114743232. Accuracy: 99.14\n",
      "\n",
      "[7,    45] Val -  Loss: 0.8443039947085911. Accuracy: 78.77777777777777\n",
      "\n",
      "[8,    50] Train -  Loss: 0.07183480955660343. Accuracy: 99.722\n",
      "\n",
      "[8,    45] Val -  Loss: 0.9877834929360284. Accuracy: 78.44444444444444\n",
      "\n",
      "[9,    50] Train -  Loss: 0.05058713041245937. Accuracy: 99.82\n",
      "\n",
      "[9,    45] Val -  Loss: 0.9747260716226366. Accuracy: 79.66666666666667\n",
      "\n"
     ]
    }
   ],
   "source": [
    "#Each epoch runs over the complete dataset once.\n",
    "for epoch in range(epochs):\n",
    "    total = 0\n",
    "    correct = 0\n",
    "    losses = 0\n",
    "    iter = 0\n",
    "\n",
    "    #Batch of 100 samples\n",
    "    for images,labels in train_loader:\n",
    "        #Predict the output using model function\n",
    "        outputs = model(images)\n",
    "        #Clear the gradients of the parameters\n",
    "        optimizer.zero_grad()\n",
    "        #Compute loss\n",
    "        loss = criterion(outputs, labels) \n",
    "        #Back propagate the loss and calculate the gradients of the parameters\n",
    "        loss.backward() \n",
    "        #Update parameters using SGD\n",
    "        optimizer.step() \n",
    "        iter+=1\n",
    "    \n",
    "        # Calculating the loss and accuracy on the train dataset\n",
    "        with torch.no_grad():\n",
    "            predictions = model(images)\n",
    "            #Considers the value with the highest probability for a sample\n",
    "            _,value = torch.max(predictions, dim=1)\n",
    "            total += labels.size()[0]\n",
    "            losses += loss.item()\n",
    "            correct += torch.sum(value == labels).item()\n",
    "    accuracy = 100 * correct/total\n",
    "    final_loss = losses/iter\n",
    "    print(f\"[{epoch}, {iter:5d}] Train -  Loss: {final_loss}. Accuracy: {accuracy}\\n\")\n",
    "        \n",
    "    val_total=0\n",
    "    val_correct=0\n",
    "    val_losses=0\n",
    "    iter_val=0\n",
    "    # Calculating the loss and accuracy on the validation dataset\n",
    "    with torch.no_grad():\n",
    "        for images_val,labels_val in val_loader:\n",
    "            outputs_val = model(images_val)\n",
    "            _,value_val = torch.max(outputs_val, dim=1)\n",
    "            \n",
    "            val_total += labels_val.size()[0]\n",
    "            val_loss = criterion(outputs_val,labels_val)\n",
    "            val_losses += val_loss.item()\n",
    "            val_correct += torch.sum(value_val == labels_val).item()\n",
    "            iter_val+=1\n",
    "    accuracy_val = 100 * val_correct/val_total\n",
    "    final_loss_val = val_losses/iter_val\n",
    "    print(f\"[{epoch}, {iter_val:5d}] Val -  Loss: {final_loss_val}. Accuracy: {accuracy_val}\\n\")\n"
   ]
  },
  {
   "cell_type": "markdown",
   "metadata": {},
   "source": [
    "# Save the model"
   ]
  },
  {
   "cell_type": "code",
   "execution_count": 636,
   "metadata": {},
   "outputs": [
    {
     "data": {
      "text/plain": [
       "<All keys matched successfully>"
      ]
     },
     "execution_count": 636,
     "metadata": {},
     "output_type": "execute_result"
    }
   ],
   "source": [
    "#Save the model using state_dict() to file named \"cifar10_logistic.pth\"\n",
    "torch.save(model.state_dict(), 'cifar10_logistic.pth')\n",
    "\n",
    "#Create a new instance of the class CNN Neural Network and load the previous model from the saved file.\n",
    "model_log = NeuralNetwork()\n",
    "model_log.load_state_dict(torch.load('cifar10_logistic.pth'))"
   ]
  },
  {
   "cell_type": "markdown",
   "metadata": {},
   "source": [
    "# Test the model on test dataset"
   ]
  },
  {
   "cell_type": "code",
   "execution_count": 628,
   "metadata": {},
   "outputs": [
    {
     "name": "stdout",
     "output_type": "stream",
     "text": [
      "[9,    55] Test -  Loss: 0.9537696117704565. Accuracy: 80.63636363636364\n",
      "\n"
     ]
    }
   ],
   "source": [
    "#Calculate loss and accuracy of the test dataset using saved model\n",
    "test_total=0\n",
    "test_correct=0\n",
    "test_losses=0\n",
    "iter_test=0\n",
    "with torch.no_grad():\n",
    "    for images_test,labels_test in test_loader:\n",
    "        # images_test = images_test.view(-1, 28*28).requires_grad_()\n",
    "        outputs_test = model(images_test)\n",
    "        _,value_test = torch.max(outputs_test, dim=1)\n",
    "        \n",
    "        test_total += labels_test.size()[0]\n",
    "        test_loss = criterion(outputs_test,labels_test)\n",
    "        test_losses += test_loss.item()\n",
    "        test_correct += torch.sum(value_test == labels_test).item()\n",
    "        # print(\"iter\",epoch,iter_test)\n",
    "        iter_test+=1\n",
    "accuracy_test = 100 * test_correct/test_total\n",
    "final_loss_test = test_losses/iter_test\n",
    "print(f\"[{epoch}, {iter_test:5d}] Test -  Loss: {final_loss_test}. Accuracy: {accuracy_test}\\n\")\n"
   ]
  }
 ],
 "metadata": {
  "kernelspec": {
   "display_name": "Python 3.9.0 ('env': venv)",
   "language": "python",
   "name": "python3"
  },
  "language_info": {
   "codemirror_mode": {
    "name": "ipython",
    "version": 3
   },
   "file_extension": ".py",
   "mimetype": "text/x-python",
   "name": "python",
   "nbconvert_exporter": "python",
   "pygments_lexer": "ipython3",
   "version": "3.9.0"
  },
  "orig_nbformat": 4,
  "vscode": {
   "interpreter": {
    "hash": "8bb958a87f1789a90ce6eb34e974696d617a9a9dcbedff6c3abf53abb5063bcc"
   }
  }
 },
 "nbformat": 4,
 "nbformat_minor": 2
}
